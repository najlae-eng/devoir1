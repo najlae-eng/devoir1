{
 "cells": [
  {
   "cell_type": "markdown",
   "id": "01deebc4-9b83-4901-8cce-7dbfc969a153",
   "metadata": {},
   "source": [
    "### Exercicee 1:"
   ]
  },
  {
   "cell_type": "markdown",
   "id": "4a4fc3ef-7008-4b2e-8912-e0cf5ec304ec",
   "metadata": {},
   "source": [
    "### QUESTION 1"
   ]
  },
  {
   "cell_type": "code",
   "execution_count": 19,
   "id": "5b4bd9fe-9dba-4641-b6fa-e8521c15e193",
   "metadata": {},
   "outputs": [
    {
     "name": "stdout",
     "output_type": "stream",
     "text": [
      "8\n"
     ]
    }
   ],
   "source": [
    "import random as rd\n",
    "def random_between(n1 ,n2):\n",
    "    if n1>=n2 :\n",
    "        raise ValueError(\"n1 doit être inférieur à n2\")\n",
    "    u = rd.random()#u est dans (0 ,1)\n",
    "    v = n1 + int((n2 - n1 + 1)*u)\n",
    "    return v\n",
    "n1 = 1\n",
    "n2 = 10\n",
    "print (random_between(n1,n2))"
   ]
  },
  {
   "cell_type": "markdown",
   "id": "96ccbff3-0ec5-47d5-b636-ffa2b1784aa7",
   "metadata": {},
   "source": [
    "### Q2"
   ]
  },
  {
   "cell_type": "code",
   "execution_count": 25,
   "id": "73dd3b05-3aba-443d-af04-ed29efd19c69",
   "metadata": {
    "collapsed": true,
    "jupyter": {
     "outputs_hidden": true
    }
   },
   "outputs": [
    {
     "name": "stderr",
     "output_type": "stream",
     "text": [
      "Matplotlib is building the font cache; this may take a moment.\n"
     ]
    }
   ],
   "source": [
    "import numpy.random as rd\n",
    "import math\n",
    "import matplotlib.pyplot as plt"
   ]
  },
  {
   "cell_type": "code",
   "execution_count": 27,
   "id": "066a0117-c673-4edb-bffb-4b12f84782d3",
   "metadata": {},
   "outputs": [],
   "source": [
    "def uniforme(n1 , n2) :\n",
    "    u = rd.random() # u appartient à (0,1)\n",
    "    v = n1 + math.floor((n2 - n1 + 1)*u)\n",
    "    return v\n",
    "    "
   ]
  },
  {
   "cell_type": "markdown",
   "id": "232dea06-450b-43d5-9f92-e6fb90da4c63",
   "metadata": {},
   "source": [
    "### Q3"
   ]
  },
  {
   "cell_type": "code",
   "execution_count": 29,
   "id": "4ad88ea3-b4b9-4390-b07c-f388893000bd",
   "metadata": {},
   "outputs": [
    {
     "data": {
      "text/plain": [
       "2"
      ]
     },
     "execution_count": 29,
     "metadata": {},
     "output_type": "execute_result"
    }
   ],
   "source": [
    "uniforme(1,6)"
   ]
  },
  {
   "cell_type": "markdown",
   "id": "48e8999b-757b-4709-b87e-fcb75c3cb6b2",
   "metadata": {},
   "source": [
    "### Q4"
   ]
  },
  {
   "cell_type": "code",
   "execution_count": 52,
   "id": "0025a244-130b-463f-bb47-183b46f1bd7b",
   "metadata": {},
   "outputs": [],
   "source": [
    "def repeterDe(N) :\n",
    "    l = []\n",
    "    for i in range (0,N) :\n",
    "        l.append(uniforme(1,6))\n",
    "    return l"
   ]
  },
  {
   "cell_type": "raw",
   "id": "f7de4590-ec2e-4ad2-b3d8-c039ff2d0b4e",
   "metadata": {},
   "source": [
    "repeterDe(20)"
   ]
  },
  {
   "cell_type": "code",
   "execution_count": 54,
   "id": "8fc8d7b8-ba15-4818-95c3-9b59dd312d25",
   "metadata": {},
   "outputs": [
    {
     "data": {
      "text/plain": [
       "[4, 5, 5, 3, 1, 2, 5, 2, 3, 2, 3, 5, 3, 6, 5, 5, 1, 5, 2, 4]"
      ]
     },
     "execution_count": 54,
     "metadata": {},
     "output_type": "execute_result"
    }
   ],
   "source": [
    "repeterDe(20)"
   ]
  },
  {
   "cell_type": "markdown",
   "id": "abc25a38-017c-44bc-85bc-fde9c83ba0e1",
   "metadata": {},
   "source": [
    "### Q5"
   ]
  },
  {
   "cell_type": "code",
   "execution_count": 57,
   "id": "3777af0b-b012-4291-84de-96f1764efb54",
   "metadata": {},
   "outputs": [],
   "source": [
    "def probabilite_A(i) :\n",
    "    icomp  = 0\n",
    "    for k in range(1000000) :\n",
    "        res = uniforme(1,6)\n",
    "        if res == i :\n",
    "            icomp = icomp + 1\n",
    "    return icomp/1000000"
   ]
  },
  {
   "cell_type": "code",
   "execution_count": 59,
   "id": "5870bf9e-03be-4346-a7f8-64544f7878c8",
   "metadata": {},
   "outputs": [
    {
     "data": {
      "text/plain": [
       "0.166719"
      ]
     },
     "execution_count": 59,
     "metadata": {},
     "output_type": "execute_result"
    }
   ],
   "source": [
    "probabilite_A(4)"
   ]
  },
  {
   "cell_type": "markdown",
   "id": "01dc978f-eb5c-4021-b58d-54958221f512",
   "metadata": {},
   "source": [
    "### Q6"
   ]
  },
  {
   "cell_type": "code",
   "execution_count": 62,
   "id": "ad0f5711-6e1b-4260-8b49-bcc4abe7a160",
   "metadata": {},
   "outputs": [],
   "source": [
    "def probabilite_B(n):\n",
    "    total_cases = n# nombre de cas possibles (n)\n",
    "    cas_favorables=n//2 # division entiere pour obtenir le nombre de pairs \n",
    "    prob = cas_favorables/total_cases\n",
    "    return prob\n"
   ]
  },
  {
   "cell_type": "code",
   "execution_count": 64,
   "id": "514cd592-ea72-4cc3-b243-e1b2ed53a7bf",
   "metadata": {},
   "outputs": [
    {
     "data": {
      "text/plain": [
       "0.0"
      ]
     },
     "execution_count": 64,
     "metadata": {},
     "output_type": "execute_result"
    }
   ],
   "source": [
    "probabilite_B(0.5)"
   ]
  },
  {
   "cell_type": "markdown",
   "id": "767bec41-21b9-4c8d-9a4c-952027dbcd35",
   "metadata": {},
   "source": [
    "### Q7"
   ]
  },
  {
   "cell_type": "code",
   "execution_count": 91,
   "id": "cb228313-bfee-476b-bdf8-fe3451d46c3d",
   "metadata": {},
   "outputs": [],
   "source": [
    "import random\n",
    "import matplotlib.pyplot as plt\n",
    "def counter(l,e) :\n",
    "    \"\"\"Renvoie la fréquence de l'élément e dans la liste l.\"\"\"\n",
    "    return l.count(e)/len(l)\n",
    "l = [random.randint(1,6) for i in range(1000000)] #la liste de1000000 éléments aléatoires entre 1 et 6\n",
    "F = [counter(l,e)for e in range(1,7)]\n",
    "     "
   ]
  },
  {
   "cell_type": "code",
   "execution_count": 93,
   "id": "2ec2d256-29ee-4f65-a10a-cc8315abc495",
   "metadata": {},
   "outputs": [
    {
     "data": {
      "image/png": "[encoded data removed]",
      "text/plain": [
       "<Figure size 640x480 with 1 Axes>"
      ]
     },
     "metadata": {},
     "output_type": "display_data"
    }
   ],
   "source": [
    "plt.bar(range(1,7),F,color=\"blue\",alpha=0.7)\n",
    "plt.xlabel(\"éléments\")\n",
    "plt.ylabel(\"fréquences\")\n",
    "plt.title(\"Diagramme en bâtons des fréquences des éléments\")\n",
    "plt.xticks(range(1,7))\n",
    "plt.ylim(0,max(F)+0.05)#ajuster l'axe y pour une meilleure vue\n",
    "plt.show()"
   ]
  },
  {
   "cell_type": "markdown",
   "id": "00faf494-00c6-45d2-8f75-8e03afeabeb7",
   "metadata": {},
   "source": [
    "### Exercice 2 :"
   ]
  },
  {
   "cell_type": "markdown",
   "id": "6f052c22-fe53-4989-9a67-0afb13c6602b",
   "metadata": {},
   "source": [
    "### Partie 1"
   ]
  },
  {
   "cell_type": "markdown",
   "id": "0b7a6bb8-e131-41e0-bc45-6ee5a3dfba51",
   "metadata": {},
   "source": [
    "### Q1"
   ]
  },
  {
   "cell_type": "code",
   "execution_count": 26,
   "id": "483538dc-a9c3-4616-af1d-ca3f67536025",
   "metadata": {},
   "outputs": [],
   "source": [
    "import random\n",
    "def piece(p):\n",
    "    \"\"\"simule le lancer d'une piece de monnaie.\n",
    "    Args :\n",
    "    p(float) : probablite d'obtenir 1(pile).\n",
    "\n",
    "    returns :\n",
    "     int: 1 si c'est pile,sinon 0.\n",
    "     \"\"\"\n",
    "    return 1 if random.random()<p else 0"
   ]
  },
  {
   "cell_type": "code",
   "execution_count": 100,
   "id": "53a7d563-e20a-4c28-bb69-c53d7844c09b",
   "metadata": {
    "collapsed": true,
    "jupyter": {
     "outputs_hidden": true
    }
   },
   "outputs": [
    {
     "ename": "SyntaxError",
     "evalue": "invalid syntax (4286225787.py, line 3)",
     "output_type": "error",
     "traceback": [
      "\u001b[0;36m  Cell \u001b[0;32mIn[100], line 3\u001b[0;36m\u001b[0m\n\u001b[0;31m    print(\"Resultat du lancer de la piece avec une probabilite de{}:{}\").\u001b[0m\n\u001b[0m                                                                         ^\u001b[0m\n\u001b[0;31mSyntaxError\u001b[0m\u001b[0;31m:\u001b[0m invalid syntax\n"
     ]
    }
   ],
   "source": []
  },
  {
   "cell_type": "markdown",
   "id": "03aeae2e-84fb-4826-99dc-ab8da16f4b98",
   "metadata": {},
   "source": [
    "### Q2"
   ]
  },
  {
   "cell_type": "code",
   "execution_count": 10,
   "id": "c1cf2714-60df-4da0-89dd-283dbcd28f65",
   "metadata": {},
   "outputs": [],
   "source": [
    "import random\n",
    "def repeterpiece(p,N) :\n",
    "    resultats = []\n",
    "    for p in range (N):\n",
    "     if random.random()<p:\n",
    "        resultats.append (1) # pile\n",
    "     else :\n",
    "        resultats.append(0) # face\n",
    "    return resultats"
   ]
  },
  {
   "cell_type": "markdown",
   "id": "c199c432-6ab2-43ce-b496-02e0097b2108",
   "metadata": {},
   "source": [
    "### Q3"
   ]
  },
  {
   "cell_type": "code",
   "execution_count": 58,
   "id": "fe17e5de-3da4-4aab-afcd-94a46a560681",
   "metadata": {},
   "outputs": [
    {
     "data": {
      "image/png": "[encoded data removed]",
      "text/plain": [
       "<Figure size 640x480 with 1 Axes>"
      ]
     },
     "metadata": {},
     "output_type": "display_data"
    }
   ],
   "source": [
    "import random\n",
    "import matplotlib.pyplot as plt\n",
    "\n",
    "def piece(p):\n",
    "    return 1 if random.random()<p else 0\n",
    "def repeterpiece(p,N) :\n",
    "    return[piece(p) for p in range(N)]\n",
    "\n",
    "# parametres \n",
    "N =10000\n",
    "p =0.3\n",
    "\n",
    "resultats = repeterpiece(p,N)\n",
    "frequence_pile = resultats.count(1)/N\n",
    "frequence_face = resultats.count(0)/N\n",
    "\n",
    "labels = [\"Pile(1)\",\"Face(0)\"]\n",
    "frequences = [frequence_pile,frequence_face] \n",
    "\n",
    "plt.bar(labels,frequences,color=[\"blue\",\"orange\"])\n",
    "plt.ylabel(\"frequence\")\n",
    "plt.title(f\"Diagramme des frequences pour {N} lancers avec p = {p}\")\n",
    "plt.ylim(0,1)\n",
    "plt.show()"
   ]
  },
  {
   "cell_type": "markdown",
   "id": "42e485e3-c6bc-4ac2-b7a1-6f220228f143",
   "metadata": {},
   "source": [
    "### Q4"
   ]
  },
  {
   "cell_type": "code",
   "execution_count": 106,
   "id": "a24ff847-1737-4372-a317-b16d67f54a19",
   "metadata": {},
   "outputs": [],
   "source": [
    "def nbrSucces(n,p) :\n",
    "    l = repeterPiece(p,n)\n",
    "    c = 0\n",
    "    for i in 1 :\n",
    "        if i == 0 :\n",
    "            c = c + 1\n",
    "    return c"
   ]
  },
  {
   "cell_type": "markdown",
   "id": "ac4a6884-0bd2-4df0-9d1c-3a894227a068",
   "metadata": {},
   "source": [
    "### Q5"
   ]
  },
  {
   "cell_type": "code",
   "execution_count": 65,
   "id": "81a75c34-1340-490f-93c4-806f2a98a6fc",
   "metadata": {},
   "outputs": [],
   "source": [
    "def repeterNbrSucces(n,p,N) :\n",
    "    resultats = []\n",
    "    for i in range (N):\n",
    "        resultats.append(nbrSucces(n,p))\n",
    "    return resultats\n",
    "    "
   ]
  },
  {
   "cell_type": "markdown",
   "id": "f0f884b7-da22-48c5-8547-53f0d744afed",
   "metadata": {},
   "source": [
    "### Q6"
   ]
  },
  {
   "cell_type": "code",
   "execution_count": 72,
   "id": "2235b9b8-2acf-48b7-9e25-242162a898e2",
   "metadata": {
    "collapsed": true,
    "jupyter": {
     "outputs_hidden": true
    }
   },
   "outputs": [
    {
     "ename": "NameError",
     "evalue": "name 'repeterPiece' is not defined",
     "output_type": "error",
     "traceback": [
      "\u001b[0;31m---------------------------------------------------------------------------\u001b[0m",
      "\u001b[0;31mNameError\u001b[0m                                 Traceback (most recent call last)",
      "Cell \u001b[0;32mIn[72], line 4\u001b[0m\n\u001b[1;32m      2\u001b[0m n \u001b[38;5;241m=\u001b[39m \u001b[38;5;241m50\u001b[39m\n\u001b[1;32m      3\u001b[0m p \u001b[38;5;241m=\u001b[39m \u001b[38;5;241m0.3\u001b[39m\n\u001b[0;32m----> 4\u001b[0m l \u001b[38;5;241m=\u001b[39m repeterNbrSucces(n,p,N)\n\u001b[1;32m      5\u001b[0m abscisses \u001b[38;5;241m=\u001b[39m [i \u001b[38;5;28;01mfor\u001b[39;00m i \u001b[38;5;129;01min\u001b[39;00m \u001b[38;5;28mrange\u001b[39m(\u001b[38;5;241m1\u001b[39m,n\u001b[38;5;241m+\u001b[39m\u001b[38;5;241m1\u001b[39m)]\n\u001b[1;32m      6\u001b[0m fréquences \u001b[38;5;241m=\u001b[39m [counter(\u001b[38;5;241m1\u001b[39m,i) \u001b[38;5;28;01mfor\u001b[39;00m i \u001b[38;5;129;01min\u001b[39;00m abscisses]\n",
      "Cell \u001b[0;32mIn[65], line 4\u001b[0m, in \u001b[0;36mrepeterNbrSucces\u001b[0;34m(n, p, N)\u001b[0m\n\u001b[1;32m      2\u001b[0m resultats \u001b[38;5;241m=\u001b[39m []\n\u001b[1;32m      3\u001b[0m \u001b[38;5;28;01mfor\u001b[39;00m i \u001b[38;5;129;01min\u001b[39;00m \u001b[38;5;28mrange\u001b[39m (N):\n\u001b[0;32m----> 4\u001b[0m     resultats\u001b[38;5;241m.\u001b[39mappend(nbrSucces(n,p))\n\u001b[1;32m      5\u001b[0m \u001b[38;5;28;01mreturn\u001b[39;00m resultats\n",
      "Cell \u001b[0;32mIn[32], line 9\u001b[0m, in \u001b[0;36mnbrSucces\u001b[0;34m(n, p)\u001b[0m\n\u001b[1;32m      1\u001b[0m \u001b[38;5;28;01mdef\u001b[39;00m \u001b[38;5;21mnbrSucces\u001b[39m(n,p):\n\u001b[1;32m      2\u001b[0m \u001b[38;5;250m    \u001b[39m\u001b[38;5;124;03m\"\"\"Renvoie le nombre de succes (pile) lors de n lancers d'une piece de monnaie.\u001b[39;00m\n\u001b[1;32m      3\u001b[0m \u001b[38;5;124;03m    Args:\u001b[39;00m\n\u001b[1;32m      4\u001b[0m \u001b[38;5;124;03m     n(int) :Nombre de lancers.\u001b[39;00m\n\u001b[0;32m   (...)\u001b[0m\n\u001b[1;32m      7\u001b[0m \u001b[38;5;124;03m     int: Nombre de succes (pile).\u001b[39;00m\n\u001b[1;32m      8\u001b[0m \u001b[38;5;124;03m     \"\"\"\u001b[39;00m\n\u001b[0;32m----> 9\u001b[0m     resultats \u001b[38;5;241m=\u001b[39m repeterPiece(p,n)\n\u001b[1;32m     10\u001b[0m     \u001b[38;5;28;01mreturn\u001b[39;00m \u001b[38;5;28msum\u001b[39m(resultats)\n",
      "\u001b[0;31mNameError\u001b[0m: name 'repeterPiece' is not defined"
     ]
    }
   ],
   "source": [
    "N = 10000\n",
    "n = 50\n",
    "p = 0.3\n",
    "l = repeterNbrSucces(n,p,N)\n",
    "\n"
   ]
  },
  {
   "cell_type": "markdown",
   "id": "adbd069c-61c7-4aea-97e7-e8fe0554b60a",
   "metadata": {},
   "source": [
    "### Exercice 3 :"
   ]
  },
  {
   "cell_type": "markdown",
   "id": "374c6a31-c7d4-43ee-aae6-b23e04169a0f",
   "metadata": {},
   "source": [
    "### Q1"
   ]
  },
  {
   "cell_type": "code",
   "execution_count": 39,
   "id": "5cfe41b5-0c14-4723-9656-b984a0c3c774",
   "metadata": {},
   "outputs": [
    {
     "name": "stdout",
     "output_type": "stream",
     "text": [
      "La frequence de tirer une boule blanche est :0.639300\n"
     ]
    }
   ],
   "source": [
    "import random\n",
    "\n",
    "urnes=[\n",
    "    {\"blanches\":2,\"noires\":1}, #urne 1\n",
    "    {\"blanches\":3,\"noires\":1} , #urne 2\n",
    "    {\"blanches\":2,\"noires\":2}, #urne 3\n",
    "]\n",
    "def tirer_boule():\n",
    "    urne_choisie = random.choice(urnes)\n",
    "    total_boules = urne_choisie[\"blanches\"] + urne_choisie[\"noires\"]\n",
    "    tirage = random.randint(1,total_boules)\n",
    "    if tirage <= urne_choisie[\"blanches\"]:\n",
    "        return True #boule blanche\n",
    "    else:\n",
    "        return False #boule noire\n",
    "N = 10000 \n",
    "nombre_boules_blanches = sum(tirer_boule()for i in range (N))\n",
    "frequence_boules_blanches = nombre_boules_blanches/N\n",
    "print(f\"La frequence de tirer une boule blanche est :{frequence_boules_blanches:4f}\")\n",
    "\n",
    "                             \n",
    "\n",
    "     "
   ]
  },
  {
   "cell_type": "markdown",
   "id": "74e1cb9c-0d0b-4ad5-83ac-52fad90e94c5",
   "metadata": {},
   "source": [
    "### Q2"
   ]
  },
  {
   "cell_type": "markdown",
   "id": "41d12592-60e2-42d6-8c9a-fc89dee27b96",
   "metadata": {},
   "source": [
    "d'apres l'arbre pondere , la probabilite d'obtenir une boule blanche est((1/3)*(2/3))+((1/3)(3/4))+((1/3)(1/2)) =(2/9+1/4+1/6)"
   ]
  },
  {
   "cell_type": "markdown",
   "id": "493a2c3e-7981-4b57-a104-91472f018e71",
   "metadata": {
    "jp-MarkdownHeadingCollapsed": true
   },
   "source": [
    "### Q3"
   ]
  },
  {
   "cell_type": "code",
   "execution_count": 81,
   "id": "ec3ba815-f6e0-4ff5-88ae-acdc43c5b5d2",
   "metadata": {},
   "outputs": [],
   "source": [
    "urne_b = [\"blanche\" for i in range(10)]\n",
    "urne_n = [\"noire\" for i in range(10)]\n",
    "urne_1 = urne_n + 3*urne_b\n",
    "urne_2 = 2*urne_n + 2*urne_b"
   ]
  },
  {
   "cell_type": "code",
   "execution_count": 83,
   "id": "aad8b063-29fe-4c1d-a521-df54ec7a2f68",
   "metadata": {},
   "outputs": [],
   "source": [
    "def urne_() :\n",
    "    u = uniforme(1,2)\n",
    "    if u == 1:\n",
    "        return urne_1\n",
    "    return urne_2\n",
    "\n",
    "def repetertirer_(N):\n",
    "    resultats = []\n",
    "    for i in range (N):\n",
    "        urn = urne_()\n",
    "        l =[urn[uniforme(1,len(urn)) - 1], urn == urne_1]\n",
    "        resultats.append(1)\n",
    "    return resultats\n",
    "def blanche_frequence_() :\n",
    "    experiences = repetertirer_(1000)\n",
    "    a = 0\n",
    "    for boule in experiences :\n",
    "        if boule[0] == \"blanche\" and boule [1] :\n",
    "            a = a +1\n",
    "    return c/N"
   ]
  },
  {
   "cell_type": "markdown",
   "id": "eb9dc9f8-a894-4a3b-8b9a-03deab26ac13",
   "metadata": {},
   "source": [
    "### Exercice 4:"
   ]
  },
  {
   "cell_type": "markdown",
   "id": "56920735-dd9c-48ed-b4e9-edb01daf25a3",
   "metadata": {},
   "source": [
    "### Q1"
   ]
  },
  {
   "cell_type": "code",
   "execution_count": 88,
   "id": "6473e738-be3a-4017-b511-fd042251692f",
   "metadata": {},
   "outputs": [],
   "source": [
    "def deplacement(n) :\n",
    "    puce = 1\n",
    "    for i in range (1,n+1) :\n",
    "        if puce == 1 :\n",
    "            puce = 2\n",
    "        elif puce == 2:\n",
    "            if uniforme (1,2) == 1:\n",
    "                puce = 1\n",
    "            else: puce = 3\n",
    "        else : puce = 3\n",
    "        if puce == 1 :\n",
    "            print(f\"instant{i} : 1\")\n",
    "        elif puce == 2 :\n",
    "            print(f\"instant{i} : 2\")\n",
    "        else :\n",
    "            print(f\"instant {i} : 3\")\n",
    "    return puce\n",
    "        "
   ]
  },
  {
   "cell_type": "markdown",
   "id": "387d567c-c5f1-41c9-8ae7-471e48c21e32",
   "metadata": {},
   "source": [
    "### Q2"
   ]
  },
  {
   "cell_type": "code",
   "execution_count": 99,
   "id": "a84f864c-fa2c-4c2a-b507-dd9db6469feb",
   "metadata": {},
   "outputs": [],
   "source": [
    "def puce(n) :\n",
    "    puce = deplacement(n)\n",
    "    print(puce)\n",
    "    "
   ]
  },
  {
   "cell_type": "markdown",
   "id": "a0bb5a74-8cb6-4b7d-95e4-6eeb4caf04f7",
   "metadata": {},
   "source": [
    "### Q3"
   ]
  },
  {
   "cell_type": "code",
   "execution_count": 97,
   "id": "8c77a8c9-8550-4ecd-9dd7-793d0960da74",
   "metadata": {},
   "outputs": [],
   "source": [
    "def trajet(n) :\n",
    "    ab = [ i for i in range (n+1)]\n",
    "    deplacement = [deplacement(i) for i in ab]\n",
    "    plt.plot(ab,deplacement)"
   ]
  },
  {
   "cell_type": "markdown",
   "id": "7be11405-a604-4996-baed-14648f6dae06",
   "metadata": {},
   "source": [
    "### Q4"
   ]
  },
  {
   "cell_type": "code",
   "execution_count": 103,
   "id": "9af75f01-ea0d-43aa-a68c-bc900f7a64dd",
   "metadata": {},
   "outputs": [],
   "source": [
    "def arrivee() :\n",
    "    puce = 1\n",
    "    n = 0\n",
    "    while puce !=3 :\n",
    "        n = n + 1\n",
    "        puce = deplacement(n)\n",
    "        print(puce)\n",
    "    return n"
   ]
  }
 ],
 "metadata": {
  "kernelspec": {
   "display_name": "Python 3 (ipykernel)",
   "language": "python",
   "name": "python3"
  },
  "language_info": {
   "codemirror_mode": {
    "name": "ipython",
    "version": 3
   },
   "file_extension": ".py",
   "mimetype": "text/x-python",
   "name": "python",
   "nbconvert_exporter": "python",
   "pygments_lexer": "ipython3",
   "version": "3.12.7"
  }
 },
 "nbformat": 4,
 "nbformat_minor": 5
}
